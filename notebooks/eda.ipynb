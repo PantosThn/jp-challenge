{
 "cells": [
  {
   "cell_type": "markdown",
   "metadata": {},
   "source": [
    "Requirements\n",
    "1. Provide working source code that will :-\n",
    "- a. For a given stock,\n",
    "- i. Given any price as input, calculate the dividend yield\n",
    "- ii. Given any price as input, calculate the P/E Ratio\n",
    "- iii. Record a trade, with timestamp, quantity of shares, buy or sell indicator and\n",
    "- traded price\n",
    "- iv. Calculate Volume Weighted Stock Price based on trades in past 15 minutes\n",
    "- b. Calculate the GBCE All Share Index using the geometric mean of prices for all stocks\n",
    "\n",
    "Constraints & Notes\n",
    "1. Written in one of these languages:\n",
    " Java, C#, C++, Python\n",
    "2. No database or GUI is required, all data need only be held in memory\n",
    "3. No prior knowledge of stock markets or trading is required – all formulas are provided below."
   ]
  },
  {
   "cell_type": "markdown",
   "metadata": {},
   "source": [
    "| Symbol | Type      | Last Dividend | Fixed Dividend | Par Value |\n",
    "|--------|-----------|---------------|----------------|-----------|\n",
    "| TEA    | Common    | 0             |                | 100       |\n",
    "| POP    | Common    | 8             |                | 100       |\n",
    "| ALE    | Common    | 23            |                | 60        |\n",
    "| GIN    | Preferred | 8             | 2%             | 100       |\n",
    "| JOE    | Common    | 13            |                | 250       |"
   ]
  },
  {
   "cell_type": "markdown",
   "metadata": {},
   "source": [
    "$$\n",
    "\\text{Dividend Yield} = \\frac{\\text{Last Dividend}}{\\text{Price}}\n",
    "$$\n",
    "\n",
    "$$\n",
    "\\text{P/E Ratio} = \\frac{\\text{Price}}{\\text{Dividend}}\n",
    "$$\n",
    "\n",
    "$$\n",
    "\\text{Geometric Mean} = \\sqrt{p_1 \\times p_2 \\times p_3 \\times \\ldots \\times p_n}\n",
    "$$\n",
    "\n",
    "$$\n",
    "\\text{Volume Weighted Stock Price} = \\frac{\\sum_i \\text{Traded Price}_i \\times \\text{Quantity}_i}{\\sum_i \\text{Quantity}_i}\n",
    "$$"
   ]
  },
  {
   "cell_type": "code",
   "execution_count": 65,
   "metadata": {},
   "outputs": [],
   "source": [
    "stock_data = [\n",
    "    {\n",
    "        \"Symbol\": \"TEA\",\n",
    "        \"Type\": \"Common\",\n",
    "        \"Last Dividend\": 0,\n",
    "        \"Fixed Dividend\": None,\n",
    "        \"Par Value\": 100\n",
    "    },\n",
    "    {\n",
    "        \"Symbol\": \"POP\",\n",
    "        \"Type\": \"Common\",\n",
    "        \"Last Dividend\": 8.,\n",
    "        \"Fixed Dividend\": None,\n",
    "        \"Par Value\": 100\n",
    "    },\n",
    "    {\n",
    "        \"Symbol\": \"ALE\",\n",
    "        \"Type\": \"Common\",\n",
    "        \"Last Dividend\": 23,\n",
    "        \"Fixed Dividend\": None,\n",
    "        \"Par Value\": 60\n",
    "    },\n",
    "    {\n",
    "        \"Symbol\": \"GIN\",\n",
    "        \"Type\": \"Preferred\",\n",
    "        \"Last Dividend\": 8,\n",
    "        \"Fixed Dividend\": .02,\n",
    "        \"Par Value\": 100\n",
    "    },\n",
    "    {\n",
    "        \"Symbol\": \"JOE\",\n",
    "        \"Type\": \"Common\",\n",
    "        \"Last Dividend\": 13,\n",
    "        \"Fixed Dividend\": None,\n",
    "        \"Par Value\": 250\n",
    "    }\n",
    "]\n"
   ]
  },
  {
   "cell_type": "code",
   "execution_count": 104,
   "metadata": {},
   "outputs": [],
   "source": [
    "from scipy.stats import gmean\n",
    "\n",
    "def calculate_gbce_all_share_index(stock_data):\n",
    "    prices = [stock['Price'] for stock in stock_data if 'Price' in stock]\n",
    "    if len(prices) == 0:\n",
    "        return None\n",
    "    gbce_all_share_index = gmean(prices)\n",
    "    n = len(stock_data)\n",
    "    gbce_all_share_index_root_n = gbce_all_share_index ** (1 / n)\n",
    "    return gbce_all_share_index_root_n"
   ]
  },
  {
   "cell_type": "code",
   "execution_count": 117,
   "metadata": {},
   "outputs": [],
   "source": [
    "from datetime import datetime, timedelta\n",
    "from enum import Enum\n",
    "\n",
    "class StockType(Enum):\n",
    "    COMMON = \"COMMON\"\n",
    "    PREFERRED = \"PREFERRED\"\n",
    "\n",
    "class TradeType(Enum):\n",
    "    BUY = \"BUY\"\n",
    "    SELL = \"SELL\"\n",
    "\n",
    "class SimpleData:\n",
    "    def __init__(self, symbol: str, stock_type: StockType, last_dividend: float, fixed_dividend: float, par_value: float, trades=None):\n",
    "        self.symbol = symbol\n",
    "        self.stock_type = stock_type\n",
    "        self.last_dividend = last_dividend\n",
    "        self.fixed_dividend = fixed_dividend\n",
    "        self.par_value = par_value\n",
    "        self.trades = trades if trades else []\n",
    "\n",
    "    def dividend_yield(self, price):\n",
    "        if self.stock_type == StockType.COMMON:\n",
    "            return self.last_dividend / price\n",
    "        elif self.stock_type == StockType.PREFERRED:\n",
    "            return (self.fixed_dividend * self.par_value) / price\n",
    "        else:\n",
    "            return None\n",
    "    \n",
    "    def pe_ratio(self, price):\n",
    "        dividend = self.dividend_yield(price)\n",
    "        if dividend is not None and dividend != 0:\n",
    "            return price / dividend\n",
    "        else:\n",
    "            return None\n",
    "    \n",
    "    def record_trade(self, quantity: int, indicator: TradeType, price: float):\n",
    "        timestamp = datetime.now()\n",
    "        self.trades.append({'timestamp': timestamp, 'quantity': quantity, 'indicator': indicator, 'price': price})\n",
    "\n",
    "    def volume_weighted_stock_price(self):\n",
    "        # Get the current time\n",
    "        current_time = datetime.now()\n",
    "\n",
    "        # Calculate the start time for the past 15 minutes\n",
    "        start_time = current_time - timedelta(minutes=15)\n",
    "\n",
    "        # Filter trades within the past 15 minutes\n",
    "        recent_trades = [trade for trade in self.trades if trade['timestamp'] >= start_time]\n",
    "\n",
    "        # Calculate the total traded price and quantity\n",
    "        total_traded_price = 0\n",
    "        total_quantity = 0\n",
    "        for trade in recent_trades:\n",
    "            total_traded_price += trade['price'] * trade['quantity']\n",
    "            total_quantity += trade['quantity']\n",
    "\n",
    "        # Calculate the volume weighted stock price\n",
    "        if total_quantity != 0:\n",
    "            vwap = total_traded_price / total_quantity\n",
    "            return vwap\n",
    "        else:\n",
    "            return None\n",
    "\n"
   ]
  },
  {
   "cell_type": "code",
   "execution_count": 118,
   "metadata": {},
   "outputs": [
    {
     "name": "stdout",
     "output_type": "stream",
     "text": [
      "The dividend yield for POP stock with price $55.0 is 0.14545454545454545\n",
      "The P/E ratio for POP stock with price $55.0 is 378.125\n",
      "Updated Trades List:\n",
      "{'timestamp': datetime.datetime(2024, 2, 8, 20, 9, 21, 869251), 'quantity': 50, 'indicator': <TradeType.BUY: 'BUY'>, 'price': 50.0}\n",
      "{'timestamp': datetime.datetime(2024, 2, 8, 20, 9, 21, 869251), 'quantity': 30, 'indicator': <TradeType.SELL: 'SELL'>, 'price': 60.0}\n",
      "{'timestamp': datetime.datetime(2024, 2, 8, 20, 9, 21, 869251), 'quantity': 100, 'indicator': <TradeType.BUY: 'BUY'>, 'price': 55.0}\n",
      "{'timestamp': datetime.datetime(2024, 2, 8, 20, 9, 21, 869251), 'quantity': 120, 'indicator': <TradeType.BUY: 'BUY'>, 'price': 58.0}\n",
      "The dividend yield for POP stock with price $55.0 is 0.14545454545454545\n",
      "The P/E ratio for POP stock with price $55.0 is 378.125\n"
     ]
    }
   ],
   "source": [
    "# Example usage\n",
    "#if __name__ == \"__main__\":\n",
    "    # Creating an instance of SimpleData for common stock with initial trades\n",
    "pop_trades = [\n",
    "    {'timestamp': datetime.now(), 'quantity': 50, 'indicator': TradeType.BUY, 'price': 50.0},\n",
    "    {'timestamp': datetime.now(), 'quantity': 30, 'indicator': TradeType.SELL, 'price': 60.0}\n",
    "]\n",
    "pop_stock = SimpleData(\"POP\", StockType.COMMON, 8, 0, 100, trades=pop_trades)\n",
    "price = 55.0\n",
    "print(f\"The dividend yield for POP stock with price ${price} is {pop_stock.dividend_yield(price)}\")\n",
    "print(f\"The P/E ratio for POP stock with price ${price} is {pop_stock.pe_ratio(price)}\")\n",
    "\n",
    "# Record a new trade\n",
    "pop_stock.record_trade(100, TradeType.BUY, 55.0)\n",
    "\n",
    "# Update trades\n",
    "new_trades = [\n",
    "    {'timestamp': datetime.now(), 'quantity': 20, 'indicator': TradeType.SELL, 'price': 58.0},\n",
    "    {'timestamp': datetime.now(), 'quantity': 70, 'indicator': TradeType.BUY, 'price': 62.0}\n",
    "]\n",
    "pop_stock.record_trade(120, TradeType.BUY, 58.0)\n",
    "\n",
    "# Printing the updated trades list\n",
    "print(\"Updated Trades List:\")\n",
    "for trade in pop_stock.trades:\n",
    "    print(trade)\n",
    "\n",
    "# Test dividend yield and P/E ratio\n",
    "#price = 55.0\n",
    "print(f\"The dividend yield for POP stock with price ${price} is {pop_stock.dividend_yield(price)}\")\n",
    "print(f\"The P/E ratio for POP stock with price ${price} is {pop_stock.pe_ratio(price)}\")\n"
   ]
  },
  {
   "cell_type": "code",
   "execution_count": 122,
   "metadata": {},
   "outputs": [],
   "source": [
    "def calculate_gbce_all_share_index(stock_data):\n",
    "    prices = [stock.volume_weighted_stock_price() for stock in stock_data]\n",
    "    valid_prices = [price for price in prices if price is not None]\n",
    "    if not valid_prices:\n",
    "        return None\n",
    "    return gmean(valid_prices)"
   ]
  },
  {
   "cell_type": "code",
   "execution_count": 123,
   "metadata": {},
   "outputs": [
    {
     "name": "stdout",
     "output_type": "stream",
     "text": [
      "Stock: TEA\n",
      "Dividend Yield for price 50.0: 0.0\n",
      "P/E Ratio for price 50.0: None\n",
      "\n",
      "Stock: POP\n",
      "Dividend Yield for price 50.0: 0.16\n",
      "P/E Ratio for price 50.0: 312.5\n",
      "\n",
      "Stock: ALE\n",
      "Dividend Yield for price 50.0: 0.46\n",
      "P/E Ratio for price 50.0: 108.69565217391303\n",
      "\n",
      "Stock: GIN\n",
      "Dividend Yield for price 50.0: 0.4\n",
      "P/E Ratio for price 50.0: 125.0\n",
      "\n",
      "Stock: JOE\n",
      "Dividend Yield for price 50.0: 0.26\n",
      "P/E Ratio for price 50.0: 192.3076923076923\n",
      "\n"
     ]
    },
    {
     "ename": "TypeError",
     "evalue": "unsupported operand type(s) for *: 'TradeType' and 'int'",
     "output_type": "error",
     "traceback": [
      "\u001b[1;31m---------------------------------------------------------------------------\u001b[0m",
      "\u001b[1;31mTypeError\u001b[0m                                 Traceback (most recent call last)",
      "Cell \u001b[1;32mIn[123], line 24\u001b[0m\n\u001b[0;32m     22\u001b[0m \u001b[38;5;66;03m# Calculate Volume Weighted Stock Price for each stock\u001b[39;00m\n\u001b[0;32m     23\u001b[0m \u001b[38;5;28;01mfor\u001b[39;00m stock \u001b[38;5;129;01min\u001b[39;00m stock_data:\n\u001b[1;32m---> 24\u001b[0m     \u001b[38;5;28mprint\u001b[39m(\u001b[38;5;124mf\u001b[39m\u001b[38;5;124m\"\u001b[39m\u001b[38;5;124mVolume Weighted Stock Price for \u001b[39m\u001b[38;5;132;01m{\u001b[39;00mstock\u001b[38;5;241m.\u001b[39msymbol\u001b[38;5;132;01m}\u001b[39;00m\u001b[38;5;124m: \u001b[39m\u001b[38;5;132;01m{\u001b[39;00m\u001b[43mstock\u001b[49m\u001b[38;5;241;43m.\u001b[39;49m\u001b[43mvolume_weighted_stock_price\u001b[49m\u001b[43m(\u001b[49m\u001b[43m)\u001b[49m\u001b[38;5;132;01m}\u001b[39;00m\u001b[38;5;124m\"\u001b[39m)\n\u001b[0;32m     26\u001b[0m \u001b[38;5;66;03m# Calculate GBCE All Share Index\u001b[39;00m\n\u001b[0;32m     27\u001b[0m gbce_all_share_index \u001b[38;5;241m=\u001b[39m calculate_gbce_all_share_index(stock_data)\n",
      "Cell \u001b[1;32mIn[117], line 54\u001b[0m, in \u001b[0;36mSimpleData.volume_weighted_stock_price\u001b[1;34m(self)\u001b[0m\n\u001b[0;32m     52\u001b[0m total_quantity \u001b[38;5;241m=\u001b[39m \u001b[38;5;241m0\u001b[39m\n\u001b[0;32m     53\u001b[0m \u001b[38;5;28;01mfor\u001b[39;00m trade \u001b[38;5;129;01min\u001b[39;00m recent_trades:\n\u001b[1;32m---> 54\u001b[0m     total_traded_price \u001b[38;5;241m+\u001b[39m\u001b[38;5;241m=\u001b[39m \u001b[43mtrade\u001b[49m\u001b[43m[\u001b[49m\u001b[38;5;124;43m'\u001b[39;49m\u001b[38;5;124;43mprice\u001b[39;49m\u001b[38;5;124;43m'\u001b[39;49m\u001b[43m]\u001b[49m\u001b[43m \u001b[49m\u001b[38;5;241;43m*\u001b[39;49m\u001b[43m \u001b[49m\u001b[43mtrade\u001b[49m\u001b[43m[\u001b[49m\u001b[38;5;124;43m'\u001b[39;49m\u001b[38;5;124;43mquantity\u001b[39;49m\u001b[38;5;124;43m'\u001b[39;49m\u001b[43m]\u001b[49m\n\u001b[0;32m     55\u001b[0m     total_quantity \u001b[38;5;241m+\u001b[39m\u001b[38;5;241m=\u001b[39m trade[\u001b[38;5;124m'\u001b[39m\u001b[38;5;124mquantity\u001b[39m\u001b[38;5;124m'\u001b[39m]\n\u001b[0;32m     57\u001b[0m \u001b[38;5;66;03m# Calculate the volume weighted stock price\u001b[39;00m\n",
      "\u001b[1;31mTypeError\u001b[0m: unsupported operand type(s) for *: 'TradeType' and 'int'"
     ]
    }
   ],
   "source": [
    "stock_data = [\n",
    "    SimpleData(\"TEA\", StockType.COMMON, 0.0, 0.0, 100.0),\n",
    "    SimpleData(\"POP\", StockType.COMMON, 8.0, 0.0, 100.0),\n",
    "    SimpleData(\"ALE\", StockType.COMMON, 23.0, 0.0, 60.0),\n",
    "    SimpleData(\"GIN\", StockType.PREFERRED, 8.0, 0.2, 100.0),\n",
    "    SimpleData(\"JOE\", StockType.COMMON, 13.0, 0.0, 250.0)\n",
    "]\n",
    "\n",
    "# Test dividend yield and P/E ratio for a given price\n",
    "test_price = 50.0\n",
    "for stock in stock_data:\n",
    "    print(f\"Stock: {stock.symbol}\")\n",
    "    print(f\"Dividend Yield for price {test_price}: {stock.dividend_yield(test_price)}\")\n",
    "    print(f\"P/E Ratio for price {test_price}: {stock.pe_ratio(test_price)}\")\n",
    "    print()\n",
    "\n",
    "# Record a trade for each stock\n",
    "for stock in stock_data:\n",
    "    stock.record_trade(10, 55.0, TradeType.BUY)\n",
    "    stock.record_trade(5, 60.0, TradeType.SELL)\n",
    "\n",
    "# Calculate Volume Weighted Stock Price for each stock\n",
    "for stock in stock_data:\n",
    "    print(f\"Volume Weighted Stock Price for {stock.symbol}: {stock.volume_weighted_stock_price()}\")\n",
    "\n",
    "# Calculate GBCE All Share Index\n",
    "gbce_all_share_index = calculate_gbce_all_share_index(stock_data)\n",
    "print(f\"\\nGBCE All Share Index: {gbce_all_share_index}\")"
   ]
  },
  {
   "cell_type": "code",
   "execution_count": null,
   "metadata": {},
   "outputs": [],
   "source": []
  },
  {
   "cell_type": "code",
   "execution_count": null,
   "metadata": {},
   "outputs": [],
   "source": []
  },
  {
   "cell_type": "code",
   "execution_count": null,
   "metadata": {},
   "outputs": [],
   "source": []
  },
  {
   "cell_type": "code",
   "execution_count": null,
   "metadata": {},
   "outputs": [],
   "source": []
  },
  {
   "cell_type": "code",
   "execution_count": null,
   "metadata": {},
   "outputs": [],
   "source": []
  },
  {
   "cell_type": "code",
   "execution_count": null,
   "metadata": {},
   "outputs": [],
   "source": []
  },
  {
   "cell_type": "code",
   "execution_count": null,
   "metadata": {},
   "outputs": [],
   "source": []
  },
  {
   "cell_type": "code",
   "execution_count": null,
   "metadata": {},
   "outputs": [],
   "source": []
  },
  {
   "cell_type": "code",
   "execution_count": 119,
   "metadata": {},
   "outputs": [
    {
     "name": "stdout",
     "output_type": "stream",
     "text": [
      "No valid prices found in stock data.\n"
     ]
    }
   ],
   "source": [
    "gbce_all_share_index_root_n = calculate_gbce_all_share_index(stock_data)\n",
    "if gbce_all_share_index_root_n is not None:\n",
    "    print(f\"GBCE All Share Index: {gbce_all_share_index_root_n}\")\n",
    "    # Perform assertion\n",
    "    assert round(gbce_all_share_index_root_n, 10) == 1.3797296615  # Round to 10 decimal places for accurate comparison\n",
    "else:\n",
    "    print(\"No valid prices found in stock data.\")"
   ]
  },
  {
   "cell_type": "code",
   "execution_count": 120,
   "metadata": {},
   "outputs": [],
   "source": [
    "gbce_all_share_index_root_n()"
   ]
  },
  {
   "cell_type": "code",
   "execution_count": 190,
   "metadata": {},
   "outputs": [
    {
     "name": "stdout",
     "output_type": "stream",
     "text": [
      "Stock: TEA\n",
      "Dividend Yield for price 50.0: 0.0\n",
      "P/E Ratio for price 50.0: None\n",
      "Stock: POP\n",
      "Dividend Yield for price 50.0: 0.16\n",
      "P/E Ratio for price 50.0: 312.5\n",
      "Stock: ALE\n",
      "Dividend Yield for price 50.0: 0.46\n",
      "P/E Ratio for price 50.0: 108.69565217391303\n",
      "Stock: GIN\n",
      "Dividend Yield for price 50.0: 0.4\n",
      "P/E Ratio for price 50.0: 125.0\n",
      "Stock: JOE\n",
      "Dividend Yield for price 50.0: 0.26\n",
      "P/E Ratio for price 50.0: 192.3076923076923\n",
      "Volume Weighted Stock Price for TEA: 56.666666666666664\n",
      "Volume Weighted Stock Price for POP: 56.666666666666664\n",
      "Volume Weighted Stock Price for ALE: 56.666666666666664\n",
      "Volume Weighted Stock Price for GIN: 56.666666666666664\n",
      "Volume Weighted Stock Price for JOE: 56.666666666666664\n",
      "\n",
      "GBCE All Share Index: 60.000000000000014\n"
     ]
    }
   ],
   "source": [
    "from enum import Enum\n",
    "from datetime import datetime, timedelta\n",
    "\n",
    "from operator import mul\n",
    "from functools import reduce\n",
    "\n",
    "class StockType(Enum):\n",
    "    COMMON = \"COMMON\"\n",
    "    PREFERRED = \"PREFERRED\"\n",
    "\n",
    "class TradeType(Enum):\n",
    "    BUY = \"BUY\"\n",
    "    SELL = \"SELL\"\n",
    "\n",
    "class SimpleData:\n",
    "    def __init__(self, symbol: str, stock_type: StockType, last_dividend: float, fixed_dividend: float, par_value: float):\n",
    "        \"\"\"\n",
    "        Initialize a SimpleData object with the given parameters.\n",
    "\n",
    "        :param symbol: The symbol of the stock.\n",
    "        :param stock_type: The type of the stock (COMMON or PREFERRED).\n",
    "        :param last_dividend: The last dividend paid by the stock.\n",
    "        :param fixed_dividend: The fixed dividend rate for preferred stocks (percentage).\n",
    "        :param par_value: The par value of the stock.\n",
    "        \"\"\"\n",
    "        self.symbol = symbol\n",
    "        self.stock_type = stock_type\n",
    "        self.last_dividend = last_dividend\n",
    "        self.fixed_dividend = fixed_dividend\n",
    "        self.par_value = par_value\n",
    "        self.trades = []\n",
    "        \n",
    "    def dividend_yield(self, price):\n",
    "        \"\"\"\n",
    "        Calculate the dividend yield for the stock.\n",
    "\n",
    "        Args:\n",
    "            price (float): The current price of the stock.\n",
    "\n",
    "        Returns:\n",
    "            float: The calculated dividend yield.\n",
    "            \n",
    "        Raises:\n",
    "            ValueError: If the price is non-positive.\n",
    "        \"\"\"\n",
    "        # Check if price is non-positive\n",
    "        if price <= 0:\n",
    "            raise ValueError(\"Price must be positive\")\n",
    "\n",
    "        # Calculate dividend yield based on stock type\n",
    "        if self.stock_type == StockType.COMMON:\n",
    "            return self.last_dividend / price\n",
    "        elif self.stock_type == StockType.PREFERRED:\n",
    "            return (self.fixed_dividend * self.par_value) / price\n",
    "\n",
    "    def pe_ratio(self, price):\n",
    "        \"\"\"\n",
    "        Calculate the price-to-earnings (P/E) ratio.\n",
    "\n",
    "        Args:\n",
    "            price (float): The current price of the stock.\n",
    "\n",
    "        Returns:\n",
    "            float or None: The calculated P/E ratio, or None if the dividend is zero.\n",
    "        \"\"\"\n",
    "        # Calculate dividend yield\n",
    "        dividend = self.dividend_yield(price)\n",
    "        \n",
    "        # Return P/E ratio if dividend is non-zero, otherwise return None\n",
    "        return price / dividend if dividend != 0 else None\n",
    "\n",
    "\n",
    "    def record_trade(self, quantity: int, price: float, indicator: TradeType):\n",
    "        \"\"\"\n",
    "        Record a trade for the stock.\n",
    "\n",
    "        Args:\n",
    "            quantity (int): The quantity of shares traded.\n",
    "            price (float): The price at which the trade occurred.\n",
    "            indicator (TradeType): Indicator whether the trade is a buy or sell.\n",
    "\n",
    "        Returns:\n",
    "            None\n",
    "        \"\"\"\n",
    "        timestamp = datetime.now()\n",
    "        self.trades.append({'timestamp': timestamp, 'quantity': quantity, 'price': price, 'indicator': indicator})\n",
    "\n",
    "    def volume_weighted_stock_price(self):\n",
    "        \"\"\"\n",
    "        Calculate the volume-weighted stock price based on trades within the last 15 minutes.\n",
    "\n",
    "        Returns:\n",
    "            float or None: The volume-weighted stock price, or None if there are no trades within the last 15 minutes.\n",
    "        \"\"\"\n",
    "        # Calculate the timestamp 15 minutes ago\n",
    "        fifteen_minutes_ago = datetime.now() - timedelta(minutes=15)\n",
    "\n",
    "        # Filter trades within the last 15 minutes\n",
    "        trades_within_15_minutes = [trade for trade in self.trades if trade['timestamp'] >= fifteen_minutes_ago]\n",
    "\n",
    "        # If no trades within the last 15 minutes, return None\n",
    "        if not trades_within_15_minutes:\n",
    "            return None\n",
    "\n",
    "        # Calculate total value and total quantity for volume-weighted stock price\n",
    "        total_value = sum(trade['price'] * trade['quantity'] for trade in trades_within_15_minutes)\n",
    "        total_quantity = sum(trade['quantity'] for trade in trades_within_15_minutes)\n",
    "\n",
    "        # Calculate volume-weighted stock price\n",
    "        return total_value / total_quantity\n",
    "\n",
    "\n",
    "class GBCECalculator:\n",
    "    @staticmethod\n",
    "    def calculate_gbce_all_share_index(stock_data):\n",
    "        \"\"\"\n",
    "        Calculate the GBCE All Share Index using the geometric mean of prices for all valid stocks.\n",
    "\n",
    "        Args:\n",
    "            stock_data (list): A list of stock data, each element containing information about a stock.\n",
    "\n",
    "        Returns:\n",
    "            float or None: The calculated GBCE All Share Index, or None if there are no valid stocks with trades.\n",
    "        \"\"\"\n",
    "        if not stock_data:\n",
    "            return None  # Handle case when stock_data is empty\n",
    "\n",
    "        # Filter out stocks without any trades\n",
    "        valid_stocks = [stock for stock in stock_data if stock.trades]\n",
    "\n",
    "        if not valid_stocks:\n",
    "            return None  # Handle case when all stocks have no trades\n",
    "\n",
    "        # Calculate the product of prices for valid stocks\n",
    "        prices = [stock.trades[-1]['price'] for stock in valid_stocks]\n",
    "        product = reduce(mul, prices, 1)\n",
    "\n",
    "        # Calculate the geometric mean of prices for all valid stocks\n",
    "        return (product) ** (1.0 / len(valid_stocks))\n",
    "\n",
    "\n",
    "# Example usage\n",
    "if __name__ == \"__main__\":\n",
    "    # Sample stock data\n",
    "    stock_data = [\n",
    "        SimpleData(\"TEA\", StockType.COMMON, 0.0, 0.0, 100.0),\n",
    "        SimpleData(\"POP\", StockType.COMMON, 8.0, 0.0, 100.0),\n",
    "        SimpleData(\"ALE\", StockType.COMMON, 23.0, 0.0, 60.0),\n",
    "        SimpleData(\"GIN\", StockType.PREFERRED, 8.0, 0.2, 100.0),\n",
    "        SimpleData(\"JOE\", StockType.COMMON, 13.0, 0.0, 250.0)\n",
    "    ]\n",
    "\n",
    "    # Test dividend yield and P/E ratio for a given price\n",
    "    test_price = 50.0\n",
    "    for stock in stock_data:\n",
    "        print(f\"Stock: {stock.symbol}\")\n",
    "        print(f\"Dividend Yield for price {test_price}: {stock.dividend_yield(test_price)}\")\n",
    "        print(f\"P/E Ratio for price {test_price}: {stock.pe_ratio(test_price)}\")\n",
    "    # Record a trade for each stock\n",
    "    for stock in stock_data:\n",
    "        stock.record_trade(10, 55.0, TradeType.BUY)\n",
    "        stock.record_trade(5, 60.0, TradeType.SELL)\n",
    "\n",
    "    # Calculate Volume Weighted Stock Price for each stock\n",
    "    for stock in stock_data:\n",
    "        print(f\"Volume Weighted Stock Price for {stock.symbol}: {stock.volume_weighted_stock_price()}\")\n",
    "\n",
    "    # Calculate GBCE All Share Index\n",
    "    gbce_all_share_index = GBCECalculator.calculate_gbce_all_share_index(stock_data)\n",
    "    print(f\"\\nGBCE All Share Index: {gbce_all_share_index}\")"
   ]
  },
  {
   "cell_type": "code",
   "execution_count": 191,
   "metadata": {},
   "outputs": [
    {
     "name": "stdout",
     "output_type": "stream",
     "text": [
      "Stock: TEA\n",
      "Dividend Yield: 0.0\n",
      "P/E Ratio: None\n",
      "Volume Weighted Stock Price: 1.0\n",
      "1.0\n",
      "Stock: POP\n",
      "Dividend Yield: 8.0\n",
      "P/E Ratio: 0.125\n",
      "Volume Weighted Stock Price: 1.0\n",
      "1.0\n",
      "Stock: ALE\n",
      "Dividend Yield: 23.0\n",
      "P/E Ratio: 0.043478260869565216\n",
      "Volume Weighted Stock Price: 1.0\n",
      "1.0\n",
      "Stock: GIN\n",
      "Dividend Yield: 20.0\n",
      "P/E Ratio: 0.05\n",
      "Volume Weighted Stock Price: 1.0\n",
      "1.0\n",
      "Stock: JOE\n",
      "Dividend Yield: 13.0\n",
      "P/E Ratio: 0.07692307692307693\n",
      "Volume Weighted Stock Price: 1.0\n",
      "1.0\n"
     ]
    }
   ],
   "source": [
    "stock_data = [\n",
    "    SimpleData(\"TEA\", StockType.COMMON, 0.0, 0.0, 100.0),\n",
    "    SimpleData(\"POP\", StockType.COMMON, 8.0, 0.0, 100.0),\n",
    "    SimpleData(\"ALE\", StockType.COMMON, 23.0, 0.0, 60.0),\n",
    "    SimpleData(\"GIN\", StockType.PREFERRED, 8.0, 0.2, 100.0),\n",
    "    SimpleData(\"JOE\", StockType.COMMON, 13.0, 0.0, 250.0)\n",
    "]\n",
    "\n",
    "# Record trades for each stock\n",
    "for stock in stock_data:\n",
    "    # Buy and sell 10 times for each stock\n",
    "    for _ in range(10):\n",
    "        stock.record_trade(quantity=1, price=1.0, indicator=TradeType.BUY)\n",
    "        stock.record_trade(quantity=1, price=1.0, indicator=TradeType.SELL)\n",
    "\n",
    "# Calculate metrics for all stocks\n",
    "for stock in stock_data:\n",
    "    print(f\"Stock: {stock.symbol}\")\n",
    "    print(f\"Dividend Yield: {stock.dividend_yield(1.0)}\")\n",
    "    print(f\"P/E Ratio: {stock.pe_ratio(1.0)}\")\n",
    "    print(f\"Volume Weighted Stock Price: {stock.volume_weighted_stock_price()}\")\n",
    "    print(calculate_gbce_all_share_index(stock_data))"
   ]
  },
  {
   "cell_type": "code",
   "execution_count": 158,
   "metadata": {},
   "outputs": [
    {
     "data": {
      "text/plain": [
       "20"
      ]
     },
     "execution_count": 158,
     "metadata": {},
     "output_type": "execute_result"
    }
   ],
   "source": [
    "len(stock.trades)"
   ]
  },
  {
   "cell_type": "code",
   "execution_count": 159,
   "metadata": {},
   "outputs": [],
   "source": [
    "prices = [stock.trades[-1]['price'] for stock in stock_data]"
   ]
  },
  {
   "cell_type": "code",
   "execution_count": 160,
   "metadata": {},
   "outputs": [
    {
     "data": {
      "text/plain": [
       "[1.0, 1.0, 1.0, 1.0, 1.0]"
      ]
     },
     "execution_count": 160,
     "metadata": {},
     "output_type": "execute_result"
    }
   ],
   "source": [
    "prices"
   ]
  },
  {
   "cell_type": "code",
   "execution_count": null,
   "metadata": {},
   "outputs": [],
   "source": []
  },
  {
   "cell_type": "code",
   "execution_count": 192,
   "metadata": {},
   "outputs": [
    {
     "name": "stdout",
     "output_type": "stream",
     "text": [
      "Scenario: A\n",
      "Price: 10.0\n",
      "Dividend Yield: 0.05\n",
      "P/E Ratio: 200.0\n",
      "\n"
     ]
    }
   ],
   "source": [
    "# Define function to test scenarios\n",
    "def test_scenarios():\n",
    "    # Define scenarios\n",
    "    scenarios = [\n",
    "        # Scenario 1: Stock with Common Type\n",
    "        {'symbol': 'A', 'stock_type': StockType.COMMON, 'last_dividend': 0.50, 'fixed_dividend': None, 'par_value': None, 'price': 10.0},\n",
    "\n",
    "        # Scenario 2: Stock with Preferred Type\n",
    "        # {'symbol': 'B', 'stock_type': StockType.PREFERRED, 'last_dividend': 2.00, 'fixed_dividend': 0.05, 'par_value': 100.0, 'price': 50.0},\n",
    "\n",
    "        # Scenario 3: Stock with No Dividend (Common Type)\n",
    "        # {'symbol': 'C', 'stock_type': StockType.COMMON, 'last_dividend': 0, 'fixed_dividend': None, 'par_value': None, 'price': 20.0},\n",
    "\n",
    "        # Scenario 4: Stock with No Dividend (Preferred Type)\n",
    "        # {'symbol': 'D', 'stock_type': StockType.PREFERRED, 'last_dividend': 0, 'fixed_dividend': 0.05, 'par_value': 100.0, 'price': 30.0},\n",
    "\n",
    "        # Scenario 5: Stock with Very High Dividend (Common Type)\n",
    "        # {'symbol': 'E', 'stock_type': StockType.COMMON, 'last_dividend': 100.0, 'fixed_dividend': None, 'par_value': None, 'price': 10.0}\n",
    "    ]\n",
    "\n",
    "    # Create SimpleData objects for each scenario and test dividend yield and P/E ratio\n",
    "    for scenario in scenarios:\n",
    "        stock = SimpleData(scenario['symbol'], scenario['stock_type'], scenario['last_dividend'], scenario['fixed_dividend'], scenario['par_value'])\n",
    "        price = scenario['price']\n",
    "        dividend_yield = stock.dividend_yield(price)\n",
    "        pe_ratio = stock.pe_ratio(price)\n",
    "        print(f\"Scenario: {scenario['symbol']}\")\n",
    "        print(f\"Price: {price}\")\n",
    "        print(f\"Dividend Yield: {dividend_yield}\")\n",
    "        print(f\"P/E Ratio: {pe_ratio}\")\n",
    "        print()\n",
    "\n",
    "# Run the test scenarios\n",
    "test_scenarios()"
   ]
  },
  {
   "cell_type": "code",
   "execution_count": 183,
   "metadata": {},
   "outputs": [],
   "source": [
    "scenarios = [\n",
    "    # Scenario 1: Stock with Common Type\n",
    "    {'symbol': 'A', 'stock_type': StockType.COMMON, 'last_dividend': 0.50, 'fixed_dividend': None, 'par_value': None, 'price': 10.0},\n",
    "\n",
    "    # Scenario 2: Stock with Preferred Type\n",
    "    {'symbol': 'B', 'stock_type': StockType.PREFERRED, 'last_dividend': 2.00, 'fixed_dividend': 0.05, 'par_value': 100.0, 'price': 50.0},\n",
    "\n",
    "    # Scenario 3: Stock with No Dividend (Common Type)\n",
    "    {'symbol': 'C', 'stock_type': StockType.COMMON, 'last_dividend': 0, 'fixed_dividend': None, 'par_value': None, 'price': 20.0},\n",
    "\n",
    "    # Scenario 4: Stock with No Dividend (Preferred Type)\n",
    "    {'symbol': 'D', 'stock_type': StockType.PREFERRED, 'last_dividend': 0, 'fixed_dividend': 0.05, 'par_value': 100.0, 'price': 30.0},\n",
    "\n",
    "    # Scenario 5: Stock with Very High Dividend (Common Type)\n",
    "    {'symbol': 'E', 'stock_type': StockType.COMMON, 'last_dividend': 100.0, 'fixed_dividend': None, 'par_value': None, 'price': 10.0}\n",
    "]"
   ]
  },
  {
   "cell_type": "code",
   "execution_count": 184,
   "metadata": {},
   "outputs": [],
   "source": [
    "scenario = scenarios[1]"
   ]
  },
  {
   "cell_type": "code",
   "execution_count": 185,
   "metadata": {},
   "outputs": [],
   "source": [
    "stock = SimpleData(scenario['symbol'], scenario['stock_type'], scenario['last_dividend'], scenario['fixed_dividend'], scenario['par_value'])"
   ]
  },
  {
   "cell_type": "code",
   "execution_count": 178,
   "metadata": {},
   "outputs": [
    {
     "data": {
      "text/plain": [
       "0.5"
      ]
     },
     "execution_count": 178,
     "metadata": {},
     "output_type": "execute_result"
    }
   ],
   "source": [
    "stock.last_dividend"
   ]
  },
  {
   "cell_type": "code",
   "execution_count": 186,
   "metadata": {},
   "outputs": [],
   "source": [
    "price = scenario['price']\n",
    "dividend_yield = stock.dividend_yield(price)"
   ]
  },
  {
   "cell_type": "code",
   "execution_count": 187,
   "metadata": {},
   "outputs": [
    {
     "name": "stdout",
     "output_type": "stream",
     "text": [
      "Scenario: B\n",
      "Price: 50.0\n",
      "Dividend Yield: 0.1\n",
      "P/E Ratio: 500.0\n",
      "\n"
     ]
    }
   ],
   "source": [
    "price = scenario['price']\n",
    "dividend_yield = stock.dividend_yield(price)\n",
    "pe_ratio = stock.pe_ratio(price)\n",
    "print(f\"Scenario: {scenario['symbol']}\")\n",
    "print(f\"Price: {price}\")\n",
    "print(f\"Dividend Yield: {dividend_yield}\")\n",
    "print(f\"P/E Ratio: {pe_ratio}\")\n",
    "print()"
   ]
  },
  {
   "cell_type": "code",
   "execution_count": 189,
   "metadata": {},
   "outputs": [
    {
     "data": {
      "text/plain": [
       "500.0"
      ]
     },
     "execution_count": 189,
     "metadata": {},
     "output_type": "execute_result"
    }
   ],
   "source": [
    "stock.record_trade(10, 100, 'BUY')\n",
    "stock.record_trade(5, 110, 'SELL')\n",
    "#self.preferred_stock.record_trade(5, 120, 'BUY')\n",
    "#self.preferred_stock.record_trade(10, 125, 'SELL')"
   ]
  },
  {
   "cell_type": "code",
   "execution_count": 180,
   "metadata": {},
   "outputs": [
    {
     "data": {
      "text/plain": [
       "0.05"
      ]
     },
     "execution_count": 180,
     "metadata": {},
     "output_type": "execute_result"
    }
   ],
   "source": [
    "dividend_yield"
   ]
  },
  {
   "cell_type": "code",
   "execution_count": 181,
   "metadata": {},
   "outputs": [
    {
     "data": {
      "text/plain": [
       "200.0"
      ]
     },
     "execution_count": 181,
     "metadata": {},
     "output_type": "execute_result"
    }
   ],
   "source": [
    "stock.pe_ratio(price)"
   ]
  },
  {
   "cell_type": "code",
   "execution_count": null,
   "metadata": {},
   "outputs": [],
   "source": [
    "dividend = self.dividend_yield(price)\n",
    "        return price / dividend"
   ]
  }
 ],
 "metadata": {
  "kernelspec": {
   "display_name": "Python 3",
   "language": "python",
   "name": "python3"
  },
  "language_info": {
   "codemirror_mode": {
    "name": "ipython",
    "version": 3
   },
   "file_extension": ".py",
   "mimetype": "text/x-python",
   "name": "python",
   "nbconvert_exporter": "python",
   "pygments_lexer": "ipython3",
   "version": "3.12.1"
  }
 },
 "nbformat": 4,
 "nbformat_minor": 2
}
