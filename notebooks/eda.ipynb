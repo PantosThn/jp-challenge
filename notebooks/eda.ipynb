{
 "cells": [
  {
   "cell_type": "markdown",
   "metadata": {},
   "source": [
    "Requirements\n",
    "1. Provide working source code that will :-\n",
    "- a. For a given stock,\n",
    "- i. Given any price as input, calculate the dividend yield\n",
    "- ii. Given any price as input, calculate the P/E Ratio\n",
    "- iii. Record a trade, with timestamp, quantity of shares, buy or sell indicator and\n",
    "- traded price\n",
    "- iv. Calculate Volume Weighted Stock Price based on trades in past 15 minutes\n",
    "- b. Calculate the GBCE All Share Index using the geometric mean of prices for all stocks\n",
    "\n",
    "Constraints & Notes\n",
    "1. Written in one of these languages:\n",
    " Java, C#, C++, Python\n",
    "2. No database or GUI is required, all data need only be held in memory\n",
    "3. No prior knowledge of stock markets or trading is required – all formulas are provided below."
   ]
  },
  {
   "cell_type": "markdown",
   "metadata": {},
   "source": [
    "| Symbol | Type      | Last Dividend | Fixed Dividend | Par Value |\n",
    "|--------|-----------|---------------|----------------|-----------|\n",
    "| TEA    | Common    | 0             |                | 100       |\n",
    "| POP    | Common    | 8             |                | 100       |\n",
    "| ALE    | Common    | 23            |                | 60        |\n",
    "| GIN    | Preferred | 8             | 2%             | 100       |\n",
    "| JOE    | Common    | 13            |                | 250       |"
   ]
  },
  {
   "cell_type": "markdown",
   "metadata": {},
   "source": [
    "$$\n",
    "\\text{Dividend Yield} = \\frac{\\text{Last Dividend}}{\\text{Price}}\n",
    "$$\n",
    "\n",
    "$$\n",
    "\\text{P/E Ratio} = \\frac{\\text{Price}}{\\text{Dividend}}\n",
    "$$\n",
    "\n",
    "$$\n",
    "\\text{Geometric Mean} = \\sqrt{p_1 \\times p_2 \\times p_3 \\times \\ldots \\times p_n}\n",
    "$$\n",
    "\n",
    "$$\n",
    "\\text{Volume Weighted Stock Price} = \\frac{\\sum_i \\text{Traded Price}_i \\times \\text{Quantity}_i}{\\sum_i \\text{Quantity}_i}\n",
    "$$"
   ]
  },
  {
   "cell_type": "code",
   "execution_count": 65,
   "metadata": {},
   "outputs": [],
   "source": [
    "stock_data = [\n",
    "    {\n",
    "        \"Symbol\": \"TEA\",\n",
    "        \"Type\": \"Common\",\n",
    "        \"Last Dividend\": 0,\n",
    "        \"Fixed Dividend\": None,\n",
    "        \"Par Value\": 100\n",
    "    },\n",
    "    {\n",
    "        \"Symbol\": \"POP\",\n",
    "        \"Type\": \"Common\",\n",
    "        \"Last Dividend\": 8.,\n",
    "        \"Fixed Dividend\": None,\n",
    "        \"Par Value\": 100\n",
    "    },\n",
    "    {\n",
    "        \"Symbol\": \"ALE\",\n",
    "        \"Type\": \"Common\",\n",
    "        \"Last Dividend\": 23,\n",
    "        \"Fixed Dividend\": None,\n",
    "        \"Par Value\": 60\n",
    "    },\n",
    "    {\n",
    "        \"Symbol\": \"GIN\",\n",
    "        \"Type\": \"Preferred\",\n",
    "        \"Last Dividend\": 8,\n",
    "        \"Fixed Dividend\": .02,\n",
    "        \"Par Value\": 100\n",
    "    },\n",
    "    {\n",
    "        \"Symbol\": \"JOE\",\n",
    "        \"Type\": \"Common\",\n",
    "        \"Last Dividend\": 13,\n",
    "        \"Fixed Dividend\": None,\n",
    "        \"Par Value\": 250\n",
    "    }\n",
    "]\n"
   ]
  },
  {
   "cell_type": "code",
   "execution_count": 104,
   "metadata": {},
   "outputs": [],
   "source": [
    "from scipy.stats import gmean\n",
    "\n",
    "def calculate_gbce_all_share_index(stock_data):\n",
    "    prices = [stock['Price'] for stock in stock_data if 'Price' in stock]\n",
    "    if len(prices) == 0:\n",
    "        return None\n",
    "    gbce_all_share_index = gmean(prices)\n",
    "    n = len(stock_data)\n",
    "    gbce_all_share_index_root_n = gbce_all_share_index ** (1 / n)\n",
    "    return gbce_all_share_index_root_n"
   ]
  },
  {
   "cell_type": "code",
   "execution_count": 117,
   "metadata": {},
   "outputs": [],
   "source": [
    "from datetime import datetime, timedelta\n",
    "from enum import Enum\n",
    "\n",
    "class StockType(Enum):\n",
    "    COMMON = \"COMMON\"\n",
    "    PREFERRED = \"PREFERRED\"\n",
    "\n",
    "class TradeType(Enum):\n",
    "    BUY = \"BUY\"\n",
    "    SELL = \"SELL\"\n",
    "\n",
    "class SimpleData:\n",
    "    def __init__(self, symbol: str, stock_type: StockType, last_dividend: float, fixed_dividend: float, par_value: float, trades=None):\n",
    "        self.symbol = symbol\n",
    "        self.stock_type = stock_type\n",
    "        self.last_dividend = last_dividend\n",
    "        self.fixed_dividend = fixed_dividend\n",
    "        self.par_value = par_value\n",
    "        self.trades = trades if trades else []\n",
    "\n",
    "    def dividend_yield(self, price):\n",
    "        if self.stock_type == StockType.COMMON:\n",
    "            return self.last_dividend / price\n",
    "        elif self.stock_type == StockType.PREFERRED:\n",
    "            return (self.fixed_dividend * self.par_value) / price\n",
    "        else:\n",
    "            return None\n",
    "    \n",
    "    def pe_ratio(self, price):\n",
    "        dividend = self.dividend_yield(price)\n",
    "        if dividend is not None and dividend != 0:\n",
    "            return price / dividend\n",
    "        else:\n",
    "            return None\n",
    "    \n",
    "    def record_trade(self, quantity: int, indicator: TradeType, price: float):\n",
    "        timestamp = datetime.now()\n",
    "        self.trades.append({'timestamp': timestamp, 'quantity': quantity, 'indicator': indicator, 'price': price})\n",
    "\n",
    "    def volume_weighted_stock_price(self):\n",
    "        # Get the current time\n",
    "        current_time = datetime.now()\n",
    "\n",
    "        # Calculate the start time for the past 15 minutes\n",
    "        start_time = current_time - timedelta(minutes=15)\n",
    "\n",
    "        # Filter trades within the past 15 minutes\n",
    "        recent_trades = [trade for trade in self.trades if trade['timestamp'] >= start_time]\n",
    "\n",
    "        # Calculate the total traded price and quantity\n",
    "        total_traded_price = 0\n",
    "        total_quantity = 0\n",
    "        for trade in recent_trades:\n",
    "            total_traded_price += trade['price'] * trade['quantity']\n",
    "            total_quantity += trade['quantity']\n",
    "\n",
    "        # Calculate the volume weighted stock price\n",
    "        if total_quantity != 0:\n",
    "            vwap = total_traded_price / total_quantity\n",
    "            return vwap\n",
    "        else:\n",
    "            return None\n",
    "\n"
   ]
  },
  {
   "cell_type": "code",
   "execution_count": 118,
   "metadata": {},
   "outputs": [
    {
     "name": "stdout",
     "output_type": "stream",
     "text": [
      "The dividend yield for POP stock with price $55.0 is 0.14545454545454545\n",
      "The P/E ratio for POP stock with price $55.0 is 378.125\n",
      "Updated Trades List:\n",
      "{'timestamp': datetime.datetime(2024, 2, 8, 20, 9, 21, 869251), 'quantity': 50, 'indicator': <TradeType.BUY: 'BUY'>, 'price': 50.0}\n",
      "{'timestamp': datetime.datetime(2024, 2, 8, 20, 9, 21, 869251), 'quantity': 30, 'indicator': <TradeType.SELL: 'SELL'>, 'price': 60.0}\n",
      "{'timestamp': datetime.datetime(2024, 2, 8, 20, 9, 21, 869251), 'quantity': 100, 'indicator': <TradeType.BUY: 'BUY'>, 'price': 55.0}\n",
      "{'timestamp': datetime.datetime(2024, 2, 8, 20, 9, 21, 869251), 'quantity': 120, 'indicator': <TradeType.BUY: 'BUY'>, 'price': 58.0}\n",
      "The dividend yield for POP stock with price $55.0 is 0.14545454545454545\n",
      "The P/E ratio for POP stock with price $55.0 is 378.125\n"
     ]
    }
   ],
   "source": [
    "# Example usage\n",
    "#if __name__ == \"__main__\":\n",
    "    # Creating an instance of SimpleData for common stock with initial trades\n",
    "pop_trades = [\n",
    "    {'timestamp': datetime.now(), 'quantity': 50, 'indicator': TradeType.BUY, 'price': 50.0},\n",
    "    {'timestamp': datetime.now(), 'quantity': 30, 'indicator': TradeType.SELL, 'price': 60.0}\n",
    "]\n",
    "pop_stock = SimpleData(\"POP\", StockType.COMMON, 8, 0, 100, trades=pop_trades)\n",
    "price = 55.0\n",
    "print(f\"The dividend yield for POP stock with price ${price} is {pop_stock.dividend_yield(price)}\")\n",
    "print(f\"The P/E ratio for POP stock with price ${price} is {pop_stock.pe_ratio(price)}\")\n",
    "\n",
    "# Record a new trade\n",
    "pop_stock.record_trade(100, TradeType.BUY, 55.0)\n",
    "\n",
    "# Update trades\n",
    "new_trades = [\n",
    "    {'timestamp': datetime.now(), 'quantity': 20, 'indicator': TradeType.SELL, 'price': 58.0},\n",
    "    {'timestamp': datetime.now(), 'quantity': 70, 'indicator': TradeType.BUY, 'price': 62.0}\n",
    "]\n",
    "pop_stock.record_trade(120, TradeType.BUY, 58.0)\n",
    "\n",
    "# Printing the updated trades list\n",
    "print(\"Updated Trades List:\")\n",
    "for trade in pop_stock.trades:\n",
    "    print(trade)\n",
    "\n",
    "# Test dividend yield and P/E ratio\n",
    "#price = 55.0\n",
    "print(f\"The dividend yield for POP stock with price ${price} is {pop_stock.dividend_yield(price)}\")\n",
    "print(f\"The P/E ratio for POP stock with price ${price} is {pop_stock.pe_ratio(price)}\")\n"
   ]
  },
  {
   "cell_type": "code",
   "execution_count": 122,
   "metadata": {},
   "outputs": [],
   "source": [
    "def calculate_gbce_all_share_index(stock_data):\n",
    "    prices = [stock.volume_weighted_stock_price() for stock in stock_data]\n",
    "    valid_prices = [price for price in prices if price is not None]\n",
    "    if not valid_prices:\n",
    "        return None\n",
    "    return gmean(valid_prices)"
   ]
  },
  {
   "cell_type": "code",
   "execution_count": 119,
   "metadata": {},
   "outputs": [
    {
     "name": "stdout",
     "output_type": "stream",
     "text": [
      "No valid prices found in stock data.\n"
     ]
    }
   ],
   "source": [
    "gbce_all_share_index_root_n = calculate_gbce_all_share_index(stock_data)\n",
    "if gbce_all_share_index_root_n is not None:\n",
    "    print(f\"GBCE All Share Index: {gbce_all_share_index_root_n}\")\n",
    "    # Perform assertion\n",
    "    assert round(gbce_all_share_index_root_n, 10) == 1.3797296615  # Round to 10 decimal places for accurate comparison\n",
    "else:\n",
    "    print(\"No valid prices found in stock data.\")"
   ]
  },
  {
   "cell_type": "code",
   "execution_count": 120,
   "metadata": {},
   "outputs": [],
   "source": [
    "gbce_all_share_index_root_n()"
   ]
  },
  {
   "cell_type": "code",
   "execution_count": 191,
   "metadata": {},
   "outputs": [
    {
     "name": "stdout",
     "output_type": "stream",
     "text": [
      "Stock: TEA\n",
      "Dividend Yield: 0.0\n",
      "P/E Ratio: None\n",
      "Volume Weighted Stock Price: 1.0\n",
      "1.0\n",
      "Stock: POP\n",
      "Dividend Yield: 8.0\n",
      "P/E Ratio: 0.125\n",
      "Volume Weighted Stock Price: 1.0\n",
      "1.0\n",
      "Stock: ALE\n",
      "Dividend Yield: 23.0\n",
      "P/E Ratio: 0.043478260869565216\n",
      "Volume Weighted Stock Price: 1.0\n",
      "1.0\n",
      "Stock: GIN\n",
      "Dividend Yield: 20.0\n",
      "P/E Ratio: 0.05\n",
      "Volume Weighted Stock Price: 1.0\n",
      "1.0\n",
      "Stock: JOE\n",
      "Dividend Yield: 13.0\n",
      "P/E Ratio: 0.07692307692307693\n",
      "Volume Weighted Stock Price: 1.0\n",
      "1.0\n"
     ]
    }
   ],
   "source": [
    "stock_data = [\n",
    "    SimpleData(\"TEA\", StockType.COMMON, 0.0, 0.0, 100.0),\n",
    "    SimpleData(\"POP\", StockType.COMMON, 8.0, 0.0, 100.0),\n",
    "    SimpleData(\"ALE\", StockType.COMMON, 23.0, 0.0, 60.0),\n",
    "    SimpleData(\"GIN\", StockType.PREFERRED, 8.0, 0.2, 100.0),\n",
    "    SimpleData(\"JOE\", StockType.COMMON, 13.0, 0.0, 250.0)\n",
    "]\n",
    "\n",
    "# Record trades for each stock\n",
    "for stock in stock_data:\n",
    "    # Buy and sell 10 times for each stock\n",
    "    for _ in range(10):\n",
    "        stock.record_trade(quantity=1, price=1.0, indicator=TradeType.BUY)\n",
    "        stock.record_trade(quantity=1, price=1.0, indicator=TradeType.SELL)\n",
    "\n",
    "# Calculate metrics for all stocks\n",
    "for stock in stock_data:\n",
    "    print(f\"Stock: {stock.symbol}\")\n",
    "    print(f\"Dividend Yield: {stock.dividend_yield(1.0)}\")\n",
    "    print(f\"P/E Ratio: {stock.pe_ratio(1.0)}\")\n",
    "    print(f\"Volume Weighted Stock Price: {stock.volume_weighted_stock_price()}\")\n",
    "    print(calculate_gbce_all_share_index(stock_data))"
   ]
  }
 ],
 "metadata": {
  "kernelspec": {
   "display_name": "Python 3",
   "language": "python",
   "name": "python3"
  },
  "language_info": {
   "codemirror_mode": {
    "name": "ipython",
    "version": 3
   },
   "file_extension": ".py",
   "mimetype": "text/x-python",
   "name": "python",
   "nbconvert_exporter": "python",
   "pygments_lexer": "ipython3",
   "version": "3.12.1"
  }
 },
 "nbformat": 4,
 "nbformat_minor": 2
}
